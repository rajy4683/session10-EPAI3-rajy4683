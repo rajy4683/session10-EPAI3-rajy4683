{
 "cells": [
  {
   "cell_type": "markdown",
   "id": "9294e76e-b85a-45f4-b8ec-3d1d4942da38",
   "metadata": {},
   "source": [
    "# EPAI3 Session 10 - Sequences\n",
    "In Python Sequences refer to ordered group of items. These include Lists, Tuples and Strings. Some of the operations that sequences support include:\n",
    "\n",
    "1. Concatenation\n",
    "2. Repetitions\n",
    "3. \"in\" and \"not in\" operators\n",
    "4. Element wise indexing/Slicing.\n",
    "\n",
    "It is important to note that all Sequences are \"iterable\" but it is not necessary that all iterables are sequences. E.g: Unordered Sets vs Lists. Further, **range ** objects are additionally restrictive as they don't permit concatenation/reptition."
   ]
  },
  {
   "cell_type": "code",
   "execution_count": null,
   "id": "5dbf6b79-f1b7-4b5a-8063-69afbb56b636",
   "metadata": {},
   "outputs": [],
   "source": [
    "!git clone https://github.com/rajy4683/session10-EPAI3-rajy4683.git"
   ]
  },
  {
   "cell_type": "code",
   "execution_count": 1,
   "id": "b43fc4c1-f523-4435-9bf8-df4a0c7bf319",
   "metadata": {},
   "outputs": [
    {
     "name": "stdout",
     "output_type": "stream",
     "text": [
      "/mnt/c/Users/rajy/OneDrive - Nokia/EVA4P2/EPAI3/s10\n"
     ]
    }
   ],
   "source": [
    "!pwd"
   ]
  },
  {
   "cell_type": "code",
   "execution_count": 32,
   "id": "fe7dfc75-34de-4e65-a3ca-27f08e8d8800",
   "metadata": {},
   "outputs": [
    {
     "name": "stdout",
     "output_type": "stream",
     "text": [
      "The autoreload extension is already loaded. To reload it, use:\n",
      "  %reload_ext autoreload\n"
     ]
    }
   ],
   "source": [
    "%load_ext autoreload\n",
    "%autoreload 2\n",
    "import sys\n",
    "from functools import lru_cache\n",
    "import math\n",
    "import numbers\n",
    "import decimal\n",
    "import sys\n",
    "\n",
    "from polygonlib import ConvexPolygon\n",
    "from polygonsequence import PolygonSequences\n"
   ]
  },
  {
   "cell_type": "code",
   "execution_count": 29,
   "id": "b7435e92-7061-46f9-99c0-1316c03e89fb",
   "metadata": {},
   "outputs": [
    {
     "data": {
      "text/plain": [
       "(\"<class 'polygonlib.ConvexPolygon'>\",\n",
       " \"<class 'polygonsequence.PolygonSequences'>\")"
      ]
     },
     "execution_count": 29,
     "metadata": {},
     "output_type": "execute_result"
    }
   ],
   "source": [
    "str(ConvexPolygon), str(PolygonSequences)"
   ]
  },
  {
   "cell_type": "code",
   "execution_count": 30,
   "id": "25331714-1610-4e45-a852-1f6c66c2a5eb",
   "metadata": {},
   "outputs": [
    {
     "data": {
      "text/plain": [
       "polygonsequence.PolygonSequences"
      ]
     },
     "execution_count": 30,
     "metadata": {},
     "output_type": "execute_result"
    }
   ],
   "source": [
    "PolygonSequences"
   ]
  },
  {
   "cell_type": "code",
   "execution_count": 3,
   "id": "478fc2d5-2bd3-4ffc-8f14-01c831a2ce9d",
   "metadata": {},
   "outputs": [
    {
     "data": {
      "text/plain": [
       "['__class__',\n",
       " '__delattr__',\n",
       " '__dict__',\n",
       " '__dir__',\n",
       " '__doc__',\n",
       " '__eq__',\n",
       " '__format__',\n",
       " '__ge__',\n",
       " '__getattribute__',\n",
       " '__gt__',\n",
       " '__hash__',\n",
       " '__init__',\n",
       " '__init_subclass__',\n",
       " '__le__',\n",
       " '__lt__',\n",
       " '__module__',\n",
       " '__ne__',\n",
       " '__new__',\n",
       " '__reduce__',\n",
       " '__reduce_ex__',\n",
       " '__repr__',\n",
       " '__setattr__',\n",
       " '__sizeof__',\n",
       " '__str__',\n",
       " '__subclasshook__',\n",
       " '__weakref__',\n",
       " 'check_number_type',\n",
       " 'get_apothem',\n",
       " 'get_area',\n",
       " 'get_circumradius',\n",
       " 'get_edges',\n",
       " 'get_interior_angle',\n",
       " 'get_length_of_side',\n",
       " 'get_perimeter',\n",
       " 'get_vertices',\n",
       " 'return_polybase']"
      ]
     },
     "execution_count": 3,
     "metadata": {},
     "output_type": "execute_result"
    }
   ],
   "source": [
    "dir(ConvexPolygon)"
   ]
  },
  {
   "cell_type": "markdown",
   "id": "e6be7cf9-fa98-40e4-a72b-13631c036a81",
   "metadata": {},
   "source": [
    "## ConvexPolygon (Task 1)\n",
    "\n",
    "Create a polygon class that is strictly convex and that has the following characteristics:\n",
    "1. all interior angles are less than 180\n",
    "\n",
    "2. all sides have equal length\n",
    "\n",
    "3. where initializer takes in:\n",
    "\n",
    "   1. number of edges/vertices\n",
    "   2. circumradius\n",
    "\n",
    "4. that can provide these properties:\n",
    "\n",
    "   1. \\# edges\n",
    "   2. \\# vertices\n",
    "   3. interior angle\n",
    "   4. edge length\n",
    "   5. apothem\n",
    "   6. area\n",
    "   7. perimeter\n",
    "\n",
    "5. that has these functionalities:\n",
    "\n",
    "   1. a proper `__repr__ `function\n",
    "   2. equality function\n",
    "   3. greater than functionality"
   ]
  },
  {
   "cell_type": "code",
   "execution_count": 15,
   "id": "9a2a0e09-2a82-41f3-b508-8559a5506baa",
   "metadata": {},
   "outputs": [],
   "source": [
    "def print_details_poly(poly_obj):\n",
    "    print(str(poly_obj))\n",
    "    print(f\"Count of Edges: {poly_obj.get_edges} Vertices: {poly_obj.get_vertices}\")\n",
    "    print(f\"Interior Angle: {poly_obj.get_interior_angle} Apothem: {poly_obj.get_apothem}\")\n",
    "    print(f\"Circumradius: {poly_obj.get_circumradius} Length of Side: {poly_obj.get_length_of_side}\")\n",
    "    print(f\"Perimenter: {poly_obj.get_perimeter} Area: {poly_obj.get_area}\")\n"
   ]
  },
  {
   "cell_type": "code",
   "execution_count": 27,
   "id": "e2a2fd96-2be6-410f-b1b2-0396ebc0b700",
   "metadata": {},
   "outputs": [
    {
     "name": "stdout",
     "output_type": "stream",
     "text": [
      "ConvexPolygon Object: Edges:3 Radius:1\n"
     ]
    },
    {
     "data": {
      "text/plain": [
       "Instance of ConvexPolygon class. Edges:3 Radius:1"
      ]
     },
     "execution_count": 27,
     "metadata": {},
     "output_type": "execute_result"
    }
   ],
   "source": [
    "triangle = ConvexPolygon(3, 1)\n",
    "print(triangle)\n",
    "triangle"
   ]
  },
  {
   "cell_type": "code",
   "execution_count": 20,
   "id": "c59e31e6-c580-470d-8482-0068f4728f6a",
   "metadata": {},
   "outputs": [
    {
     "name": "stdout",
     "output_type": "stream",
     "text": [
      "ConvexPolygon Object: Edges:3 Radius:1\n",
      "Count of Edges: 3 Vertices: 3\n",
      "Interior Angle: 60.0 Apothem: 0.5000000000000001\n",
      "Circumradius: 1 Length of Side: 1.7320508075688772\n",
      "Perimenter: 5.196152422706632 Area: 1.2990381056766582\n"
     ]
    },
    {
     "data": {
      "text/plain": [
       "False"
      ]
     },
     "execution_count": 20,
     "metadata": {},
     "output_type": "execute_result"
    }
   ],
   "source": [
    "triangle = ConvexPolygon(3, 1)\n",
    "square = ConvexPolygon(4, 3)\n",
    "\n",
    "\n",
    "print_details_poly(triangle)\n",
    "### Checking for equality\n",
    "square == triangle"
   ]
  },
  {
   "cell_type": "code",
   "execution_count": 21,
   "id": "81427e20-fdcb-490a-aa0e-3c616e23e53c",
   "metadata": {},
   "outputs": [
    {
     "data": {
      "text/plain": [
       "True"
      ]
     },
     "execution_count": 21,
     "metadata": {},
     "output_type": "execute_result"
    }
   ],
   "source": [
    "### Checking for greater than Only number of vertices/edges will be used for comparison\n",
    "square > triangle"
   ]
  },
  {
   "cell_type": "code",
   "execution_count": 22,
   "id": "b171233a-aa6e-4984-b7cf-8255fdb6f638",
   "metadata": {},
   "outputs": [
    {
     "name": "stdout",
     "output_type": "stream",
     "text": [
      "\n"
     ]
    }
   ],
   "source": [
    "### We try to create and invalid polygon with sides < 2 which will raise a ValueError\n",
    "try:\n",
    "    no_poly = ConvexPolygon(2, 3)\n",
    "except ValueError as e:\n",
    "    print(e)"
   ]
  },
  {
   "cell_type": "markdown",
   "id": "5706511b-c1d0-47d2-8795-7cd59bf811dd",
   "metadata": {},
   "source": [
    "## PolygonSequences (Task 2)\n",
    "Implement a Custom Polygon sequence type:\n",
    "\n",
    "1. where initializer takes in:\n",
    "   1. number of vertices for largest polygon in the sequence\n",
    "   2. common circumradius for all polygons\n",
    "2. that can provide these properties:\n",
    "   1. max efficiency polygon: returns the Polygon with the highest **area to perimeter** ratio\n",
    "3. that has these functionalities:\n",
    "   1. functions as a sequence type (`__getitem__`)\n",
    "   2. supports the len() function (`__len__`)\n",
    "   3. has a proper representation (`__repr__`)\n"
   ]
  },
  {
   "cell_type": "code",
   "execution_count": 33,
   "id": "5016a13b-393d-4e44-a083-f1c0285e742c",
   "metadata": {},
   "outputs": [
    {
     "data": {
      "text/plain": [
       "Instance of PolygonSequences class. Max Edges:10 Radius:3 Len: 8"
      ]
     },
     "execution_count": 33,
     "metadata": {},
     "output_type": "execute_result"
    }
   ],
   "source": [
    "polygon_gen = PolygonSequences(10,3)\n",
    "polygon_gen"
   ]
  },
  {
   "cell_type": "code",
   "execution_count": 35,
   "id": "6ead6792-0892-484d-a386-03b002d6aeba",
   "metadata": {},
   "outputs": [
    {
     "name": "stdout",
     "output_type": "stream",
     "text": [
      "Instance of PolygonSequences class. Max Edges:10 Radius:3 Len: 8\n"
     ]
    }
   ],
   "source": [
    "print(polygon_gen)"
   ]
  },
  {
   "cell_type": "code",
   "execution_count": 44,
   "id": "7852da88-8550-43bc-96e5-c8694de021b0",
   "metadata": {},
   "outputs": [
    {
     "data": {
      "text/plain": [
       "Instance of ConvexPolygon class. Edges:10 Radius:3"
      ]
     },
     "execution_count": 44,
     "metadata": {},
     "output_type": "execute_result"
    }
   ],
   "source": [
    "## Check for max efficieny implementation\n",
    "polygon_gen.get_max_efficiency_poly()"
   ]
  },
  {
   "cell_type": "code",
   "execution_count": 45,
   "id": "8efd8624-e752-40df-81fc-00a535559d7d",
   "metadata": {},
   "outputs": [
    {
     "name": "stdout",
     "output_type": "stream",
     "text": [
      "ConvexPolygon Object: Edges:3 Radius:3\n",
      "Count of Edges: 3 Vertices: 3\n",
      "Interior Angle: 60.0 Apothem: 1.5000000000000004\n",
      "Circumradius: 3 Length of Side: 5.196152422706632\n",
      "Perimenter: 15.588457268119896 Area: 11.691342951089926\n",
      "ConvexPolygon Object: Edges:3 Radius:3\n"
     ]
    }
   ],
   "source": [
    "### Checking indexing and slicing\n",
    "\n",
    "poly_one = polygon_gen[0]\n",
    "print_details_poly(poly_one)\n",
    "# print(poly_one)"
   ]
  },
  {
   "cell_type": "code",
   "execution_count": 39,
   "id": "d3bb0d49-d40d-4c14-86eb-6c5cf61d4374",
   "metadata": {},
   "outputs": [
    {
     "name": "stdout",
     "output_type": "stream",
     "text": [
      "ConvexPolygon Object: Edges:3 Radius:3\n",
      "Count of Edges: 3 Vertices: 3\n",
      "Interior Angle: 60.0 Apothem: 1.5000000000000004\n",
      "Circumradius: 3 Length of Side: 5.196152422706632\n",
      "Perimenter: 15.588457268119896 Area: 11.691342951089926\n"
     ]
    }
   ],
   "source": [
    "poly_last = polygon_gen[-1]\n",
    "print_details_poly(poly_one)"
   ]
  },
  {
   "cell_type": "code",
   "execution_count": 41,
   "id": "4645bad3-75b4-444a-a8c3-fb2b9929228b",
   "metadata": {},
   "outputs": [
    {
     "data": {
      "text/plain": [
       "[Instance of ConvexPolygon class. Edges:4 Radius:3,\n",
       " Instance of ConvexPolygon class. Edges:5 Radius:3,\n",
       " Instance of ConvexPolygon class. Edges:6 Radius:3,\n",
       " Instance of ConvexPolygon class. Edges:7 Radius:3,\n",
       " Instance of ConvexPolygon class. Edges:8 Radius:3,\n",
       " Instance of ConvexPolygon class. Edges:9 Radius:3]"
      ]
     },
     "execution_count": 41,
     "metadata": {},
     "output_type": "execute_result"
    }
   ],
   "source": [
    "## Returns an array starting from 1st element till last but one\n",
    "polygon_gen[1:-1:]"
   ]
  },
  {
   "cell_type": "code",
   "execution_count": 42,
   "id": "fcae767c-3723-4c02-9e0b-a987d68461f9",
   "metadata": {},
   "outputs": [
    {
     "data": {
      "text/plain": [
       "[Instance of ConvexPolygon class. Edges:3 Radius:3,\n",
       " Instance of ConvexPolygon class. Edges:4 Radius:3,\n",
       " Instance of ConvexPolygon class. Edges:5 Radius:3,\n",
       " Instance of ConvexPolygon class. Edges:6 Radius:3,\n",
       " Instance of ConvexPolygon class. Edges:7 Radius:3,\n",
       " Instance of ConvexPolygon class. Edges:8 Radius:3,\n",
       " Instance of ConvexPolygon class. Edges:9 Radius:3]"
      ]
     },
     "execution_count": 42,
     "metadata": {},
     "output_type": "execute_result"
    }
   ],
   "source": [
    "## Negative indexing and slicing\n",
    "polygon_gen[-11:-1:]"
   ]
  },
  {
   "cell_type": "code",
   "execution_count": 43,
   "id": "d5330357-197e-4287-bec8-fea497ba866f",
   "metadata": {},
   "outputs": [
    {
     "data": {
      "text/plain": [
       "[Instance of ConvexPolygon class. Edges:10 Radius:3,\n",
       " Instance of ConvexPolygon class. Edges:9 Radius:3,\n",
       " Instance of ConvexPolygon class. Edges:8 Radius:3,\n",
       " Instance of ConvexPolygon class. Edges:7 Radius:3,\n",
       " Instance of ConvexPolygon class. Edges:6 Radius:3,\n",
       " Instance of ConvexPolygon class. Edges:5 Radius:3,\n",
       " Instance of ConvexPolygon class. Edges:4 Radius:3,\n",
       " Instance of ConvexPolygon class. Edges:3 Radius:3]"
      ]
     },
     "execution_count": 43,
     "metadata": {},
     "output_type": "execute_result"
    }
   ],
   "source": [
    "### Reversed sequence\n",
    "polygon_gen[::-1]"
   ]
  }
 ],
 "metadata": {
  "kernelspec": {
   "display_name": "Python 3",
   "language": "python",
   "name": "python3"
  },
  "language_info": {
   "codemirror_mode": {
    "name": "ipython",
    "version": 3
   },
   "file_extension": ".py",
   "mimetype": "text/x-python",
   "name": "python",
   "nbconvert_exporter": "python",
   "pygments_lexer": "ipython3",
   "version": "3.8.5"
  }
 },
 "nbformat": 4,
 "nbformat_minor": 5
}
